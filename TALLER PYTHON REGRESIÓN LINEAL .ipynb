{
  "nbformat": 4,
  "nbformat_minor": 0,
  "metadata": {
    "colab": {
      "provenance": []
    },
    "kernelspec": {
      "name": "python3",
      "display_name": "Python 3"
    },
    "language_info": {
      "name": "python"
    }
  },
  "cells": [
    {
      "cell_type": "code",
      "execution_count": 1,
      "metadata": {
        "colab": {
          "base_uri": "https://localhost:8080/"
        },
        "id": "pPEhUiWE9vEH",
        "outputId": "3935b8a6-eb35-4bf2-cfa9-e8736efb925d"
      },
      "outputs": [
        {
          "output_type": "stream",
          "name": "stdout",
          "text": [
            "Looking in indexes: https://pypi.org/simple, https://us-python.pkg.dev/colab-wheels/public/simple/\n",
            "Collecting wooldridge\n",
            "  Downloading wooldridge-0.4.4-py3-none-any.whl (5.1 MB)\n",
            "\u001b[2K     \u001b[90m━━━━━━━━━━━━━━━━━━━━━━━━━━━━━━━━━━━━━━━━\u001b[0m \u001b[32m5.1/5.1 MB\u001b[0m \u001b[31m33.5 MB/s\u001b[0m eta \u001b[36m0:00:00\u001b[0m\n",
            "\u001b[?25hRequirement already satisfied: pandas in /usr/local/lib/python3.9/dist-packages (from wooldridge) (1.5.3)\n",
            "Requirement already satisfied: numpy>=1.20.3 in /usr/local/lib/python3.9/dist-packages (from pandas->wooldridge) (1.22.4)\n",
            "Requirement already satisfied: pytz>=2020.1 in /usr/local/lib/python3.9/dist-packages (from pandas->wooldridge) (2022.7.1)\n",
            "Requirement already satisfied: python-dateutil>=2.8.1 in /usr/local/lib/python3.9/dist-packages (from pandas->wooldridge) (2.8.2)\n",
            "Requirement already satisfied: six>=1.5 in /usr/local/lib/python3.9/dist-packages (from python-dateutil>=2.8.1->pandas->wooldridge) (1.16.0)\n",
            "Installing collected packages: wooldridge\n",
            "Successfully installed wooldridge-0.4.4\n"
          ]
        }
      ],
      "source": [
        "pip install wooldridge"
      ]
    },
    {
      "cell_type": "code",
      "source": [
        "import numpy as np\n"
      ],
      "metadata": {
        "id": "y_iOJ6u29372"
      },
      "execution_count": 2,
      "outputs": []
    },
    {
      "cell_type": "code",
      "source": [
        "import pandas as pd\n"
      ],
      "metadata": {
        "id": "wzD0PnxZ-HqF"
      },
      "execution_count": 3,
      "outputs": []
    },
    {
      "cell_type": "code",
      "source": [
        "import wooldridge as wd"
      ],
      "metadata": {
        "id": "76f3mNH7-K4W"
      },
      "execution_count": 4,
      "outputs": []
    },
    {
      "cell_type": "code",
      "source": [
        "wage = wd.data('wage1')[['wage','educ','exper']]\n",
        "y = wage['wage'].to_numpy()\n",
        "x = wage [['educ','exper']].to_numpy()"
      ],
      "metadata": {
        "id": "y9c3on_2-QXU"
      },
      "execution_count": 25,
      "outputs": []
    },
    {
      "cell_type": "code",
      "source": [
        "wage"
      ],
      "metadata": {
        "colab": {
          "base_uri": "https://localhost:8080/",
          "height": 424
        },
        "id": "-FQZbzG8EbZ-",
        "outputId": "0e063f5a-0066-4c62-9394-3cc408c896e8"
      },
      "execution_count": 34,
      "outputs": [
        {
          "output_type": "execute_result",
          "data": {
            "text/plain": [
              "      wage  educ  exper\n",
              "0     3.10    11      2\n",
              "1     3.24    12     22\n",
              "2     3.00    11      2\n",
              "3     6.00     8     44\n",
              "4     5.30    12      7\n",
              "..     ...   ...    ...\n",
              "521  15.00    16     14\n",
              "522   2.27    10      2\n",
              "523   4.67    15     13\n",
              "524  11.56    16      5\n",
              "525   3.50    14      5\n",
              "\n",
              "[526 rows x 3 columns]"
            ],
            "text/html": [
              "\n",
              "  <div id=\"df-2b883806-ef3e-492b-839e-e49f6471d0cb\">\n",
              "    <div class=\"colab-df-container\">\n",
              "      <div>\n",
              "<style scoped>\n",
              "    .dataframe tbody tr th:only-of-type {\n",
              "        vertical-align: middle;\n",
              "    }\n",
              "\n",
              "    .dataframe tbody tr th {\n",
              "        vertical-align: top;\n",
              "    }\n",
              "\n",
              "    .dataframe thead th {\n",
              "        text-align: right;\n",
              "    }\n",
              "</style>\n",
              "<table border=\"1\" class=\"dataframe\">\n",
              "  <thead>\n",
              "    <tr style=\"text-align: right;\">\n",
              "      <th></th>\n",
              "      <th>wage</th>\n",
              "      <th>educ</th>\n",
              "      <th>exper</th>\n",
              "    </tr>\n",
              "  </thead>\n",
              "  <tbody>\n",
              "    <tr>\n",
              "      <th>0</th>\n",
              "      <td>3.10</td>\n",
              "      <td>11</td>\n",
              "      <td>2</td>\n",
              "    </tr>\n",
              "    <tr>\n",
              "      <th>1</th>\n",
              "      <td>3.24</td>\n",
              "      <td>12</td>\n",
              "      <td>22</td>\n",
              "    </tr>\n",
              "    <tr>\n",
              "      <th>2</th>\n",
              "      <td>3.00</td>\n",
              "      <td>11</td>\n",
              "      <td>2</td>\n",
              "    </tr>\n",
              "    <tr>\n",
              "      <th>3</th>\n",
              "      <td>6.00</td>\n",
              "      <td>8</td>\n",
              "      <td>44</td>\n",
              "    </tr>\n",
              "    <tr>\n",
              "      <th>4</th>\n",
              "      <td>5.30</td>\n",
              "      <td>12</td>\n",
              "      <td>7</td>\n",
              "    </tr>\n",
              "    <tr>\n",
              "      <th>...</th>\n",
              "      <td>...</td>\n",
              "      <td>...</td>\n",
              "      <td>...</td>\n",
              "    </tr>\n",
              "    <tr>\n",
              "      <th>521</th>\n",
              "      <td>15.00</td>\n",
              "      <td>16</td>\n",
              "      <td>14</td>\n",
              "    </tr>\n",
              "    <tr>\n",
              "      <th>522</th>\n",
              "      <td>2.27</td>\n",
              "      <td>10</td>\n",
              "      <td>2</td>\n",
              "    </tr>\n",
              "    <tr>\n",
              "      <th>523</th>\n",
              "      <td>4.67</td>\n",
              "      <td>15</td>\n",
              "      <td>13</td>\n",
              "    </tr>\n",
              "    <tr>\n",
              "      <th>524</th>\n",
              "      <td>11.56</td>\n",
              "      <td>16</td>\n",
              "      <td>5</td>\n",
              "    </tr>\n",
              "    <tr>\n",
              "      <th>525</th>\n",
              "      <td>3.50</td>\n",
              "      <td>14</td>\n",
              "      <td>5</td>\n",
              "    </tr>\n",
              "  </tbody>\n",
              "</table>\n",
              "<p>526 rows × 3 columns</p>\n",
              "</div>\n",
              "      <button class=\"colab-df-convert\" onclick=\"convertToInteractive('df-2b883806-ef3e-492b-839e-e49f6471d0cb')\"\n",
              "              title=\"Convert this dataframe to an interactive table.\"\n",
              "              style=\"display:none;\">\n",
              "        \n",
              "  <svg xmlns=\"http://www.w3.org/2000/svg\" height=\"24px\"viewBox=\"0 0 24 24\"\n",
              "       width=\"24px\">\n",
              "    <path d=\"M0 0h24v24H0V0z\" fill=\"none\"/>\n",
              "    <path d=\"M18.56 5.44l.94 2.06.94-2.06 2.06-.94-2.06-.94-.94-2.06-.94 2.06-2.06.94zm-11 1L8.5 8.5l.94-2.06 2.06-.94-2.06-.94L8.5 2.5l-.94 2.06-2.06.94zm10 10l.94 2.06.94-2.06 2.06-.94-2.06-.94-.94-2.06-.94 2.06-2.06.94z\"/><path d=\"M17.41 7.96l-1.37-1.37c-.4-.4-.92-.59-1.43-.59-.52 0-1.04.2-1.43.59L10.3 9.45l-7.72 7.72c-.78.78-.78 2.05 0 2.83L4 21.41c.39.39.9.59 1.41.59.51 0 1.02-.2 1.41-.59l7.78-7.78 2.81-2.81c.8-.78.8-2.07 0-2.86zM5.41 20L4 18.59l7.72-7.72 1.47 1.35L5.41 20z\"/>\n",
              "  </svg>\n",
              "      </button>\n",
              "      \n",
              "  <style>\n",
              "    .colab-df-container {\n",
              "      display:flex;\n",
              "      flex-wrap:wrap;\n",
              "      gap: 12px;\n",
              "    }\n",
              "\n",
              "    .colab-df-convert {\n",
              "      background-color: #E8F0FE;\n",
              "      border: none;\n",
              "      border-radius: 50%;\n",
              "      cursor: pointer;\n",
              "      display: none;\n",
              "      fill: #1967D2;\n",
              "      height: 32px;\n",
              "      padding: 0 0 0 0;\n",
              "      width: 32px;\n",
              "    }\n",
              "\n",
              "    .colab-df-convert:hover {\n",
              "      background-color: #E2EBFA;\n",
              "      box-shadow: 0px 1px 2px rgba(60, 64, 67, 0.3), 0px 1px 3px 1px rgba(60, 64, 67, 0.15);\n",
              "      fill: #174EA6;\n",
              "    }\n",
              "\n",
              "    [theme=dark] .colab-df-convert {\n",
              "      background-color: #3B4455;\n",
              "      fill: #D2E3FC;\n",
              "    }\n",
              "\n",
              "    [theme=dark] .colab-df-convert:hover {\n",
              "      background-color: #434B5C;\n",
              "      box-shadow: 0px 1px 3px 1px rgba(0, 0, 0, 0.15);\n",
              "      filter: drop-shadow(0px 1px 2px rgba(0, 0, 0, 0.3));\n",
              "      fill: #FFFFFF;\n",
              "    }\n",
              "  </style>\n",
              "\n",
              "      <script>\n",
              "        const buttonEl =\n",
              "          document.querySelector('#df-2b883806-ef3e-492b-839e-e49f6471d0cb button.colab-df-convert');\n",
              "        buttonEl.style.display =\n",
              "          google.colab.kernel.accessAllowed ? 'block' : 'none';\n",
              "\n",
              "        async function convertToInteractive(key) {\n",
              "          const element = document.querySelector('#df-2b883806-ef3e-492b-839e-e49f6471d0cb');\n",
              "          const dataTable =\n",
              "            await google.colab.kernel.invokeFunction('convertToInteractive',\n",
              "                                                     [key], {});\n",
              "          if (!dataTable) return;\n",
              "\n",
              "          const docLinkHtml = 'Like what you see? Visit the ' +\n",
              "            '<a target=\"_blank\" href=https://colab.research.google.com/notebooks/data_table.ipynb>data table notebook</a>'\n",
              "            + ' to learn more about interactive tables.';\n",
              "          element.innerHTML = '';\n",
              "          dataTable['output_type'] = 'display_data';\n",
              "          await google.colab.output.renderOutput(dataTable, element);\n",
              "          const docLink = document.createElement('div');\n",
              "          docLink.innerHTML = docLinkHtml;\n",
              "          element.appendChild(docLink);\n",
              "        }\n",
              "      </script>\n",
              "    </div>\n",
              "  </div>\n",
              "  "
            ]
          },
          "metadata": {},
          "execution_count": 34
        }
      ]
    },
    {
      "cell_type": "code",
      "source": [
        "y"
      ],
      "metadata": {
        "colab": {
          "base_uri": "https://localhost:8080/"
        },
        "id": "ZYAuAQP5AECj",
        "outputId": "12ce82e7-ad7c-4137-e5a6-3b724293ca6e"
      },
      "execution_count": 26,
      "outputs": [
        {
          "output_type": "execute_result",
          "data": {
            "text/plain": [
              "array([ 3.0999999 ,  3.24000001,  3.        ,  6.        ,  5.30000019,\n",
              "        8.75      , 11.25      ,  5.        ,  3.5999999 , 18.18000031,\n",
              "        6.25      ,  8.13000011,  8.77000046,  5.5       , 22.20000076,\n",
              "       17.32999992,  7.5       , 10.63000011,  3.5999999 ,  4.5       ,\n",
              "        6.88000011,  8.47999954,  6.32999992,  0.52999997,  6.        ,\n",
              "        9.56000042,  7.78000021, 12.5       , 12.5       ,  3.25      ,\n",
              "       13.        ,  4.5       ,  9.68000031,  5.        ,  4.67999983,\n",
              "        4.26999998,  6.1500001 ,  3.50999999,  3.        ,  6.25      ,\n",
              "        7.80999994, 10.        ,  4.5       ,  4.        ,  6.38000011,\n",
              "       13.69999981,  1.66999996,  2.93000007,  3.6500001 ,  2.9000001 ,\n",
              "        1.63      ,  8.60000038,  5.        ,  6.        ,  2.5       ,\n",
              "        3.25      ,  3.4000001 , 10.        , 21.62999916,  4.38000011,\n",
              "       11.71000004, 12.39000034,  6.25      ,  3.71000004,  7.78000021,\n",
              "       19.97999954,  6.25      , 10.        ,  5.71000004,  2.        ,\n",
              "        5.71000004, 13.07999992,  4.90999985,  2.91000009,  3.75      ,\n",
              "       11.89999962,  4.        ,  3.0999999 ,  8.44999981,  7.13999987,\n",
              "        4.5       ,  4.6500001 ,  2.9000001 ,  6.67000008,  3.5       ,\n",
              "        3.25999999,  3.25      ,  8.        ,  9.85000038,  7.5       ,\n",
              "        5.90999985, 11.76000023,  3.        ,  4.80999994,  6.5       ,\n",
              "        4.        ,  3.5       , 13.15999985,  4.25      ,  3.5       ,\n",
              "        5.13000011,  3.75      ,  4.5       ,  7.63000011, 15.        ,\n",
              "        6.8499999 , 13.32999992,  6.67000008,  2.52999997,  9.80000019,\n",
              "        3.36999989, 24.97999954,  5.4000001 ,  6.11000013,  4.19999981,\n",
              "        3.75      ,  3.5       ,  3.6400001 ,  3.79999995,  3.        ,\n",
              "        5.        ,  4.63000011,  3.        ,  3.20000005,  3.91000009,\n",
              "        6.42999983,  5.48000002,  1.5       ,  2.9000001 ,  5.        ,\n",
              "        8.92000008,  5.        ,  3.51999998,  2.9000001 ,  4.5       ,\n",
              "        2.25      ,  5.        , 10.        ,  3.75      , 10.        ,\n",
              "       10.94999981,  7.9000001 ,  4.71999979,  5.84000015,  3.82999992,\n",
              "        3.20000005,  2.        ,  4.5       , 11.55000019,  2.1400001 ,\n",
              "        2.38000011,  3.75      ,  5.51999998,  6.5       ,  3.0999999 ,\n",
              "       10.        ,  6.63000011, 10.        ,  2.30999994,  6.88000011,\n",
              "        2.82999992,  3.13000011,  8.        ,  4.5       ,  8.64999962,\n",
              "        2.        ,  4.75      ,  6.25      ,  6.        , 15.38000011,\n",
              "       14.57999992, 12.5       ,  5.25      ,  2.17000008,  7.13999987,\n",
              "        6.21999979,  9.        , 10.        ,  5.76999998,  4.        ,\n",
              "        8.75      ,  6.53000021,  7.5999999 ,  5.        ,  5.        ,\n",
              "       21.86000061,  8.64000034,  3.29999995,  4.44000006,  4.55000019,\n",
              "        3.5       ,  6.25      ,  3.8499999 ,  6.17999983,  2.91000009,\n",
              "        6.25      ,  6.25      ,  9.05000019, 10.        , 11.10999966,\n",
              "        6.88000011,  8.75      , 10.        ,  3.04999995,  3.        ,\n",
              "        5.80000019,  4.0999999 ,  8.        ,  6.1500001 ,  2.70000005,\n",
              "        2.75      ,  3.        ,  3.        ,  7.36000013,  7.5       ,\n",
              "        3.5       ,  8.10000038,  3.75      ,  3.25      ,  5.82999992,\n",
              "        3.5       ,  3.32999992,  4.        ,  3.5       ,  6.25      ,\n",
              "        2.95000005,  5.71000004,  3.        , 22.86000061,  9.        ,\n",
              "        8.32999992,  3.        ,  5.75      ,  6.76000023, 10.        ,\n",
              "        3.        ,  3.5       ,  3.25      ,  4.        ,  2.92000008,\n",
              "        3.05999994,  3.20000005,  4.75      ,  3.        , 18.15999985,\n",
              "        3.5       ,  4.11000013,  1.96000004,  4.28999996,  3.        ,\n",
              "        6.44999981,  5.19999981,  4.5       ,  3.88000011,  3.45000005,\n",
              "       10.90999985,  4.0999999 ,  3.        ,  5.9000001 , 18.        ,\n",
              "        4.        ,  3.        ,  3.54999995,  3.        ,  8.75      ,\n",
              "        2.9000001 ,  6.26000023,  3.5       ,  4.5999999 ,  6.        ,\n",
              "        2.8900001 ,  5.57999992,  4.        ,  6.        ,  4.5       ,\n",
              "        2.92000008,  4.32999992, 18.88999939,  4.28000021,  4.57000017,\n",
              "        6.25      ,  2.95000005,  8.75      ,  8.5       ,  3.75      ,\n",
              "        3.1500001 ,  5.        ,  6.46000004,  2.        ,  4.78999996,\n",
              "        5.78000021,  3.18000007,  4.67999983,  4.0999999 ,  2.91000009,\n",
              "        6.        ,  3.5999999 ,  3.95000005,  7.        ,  3.        ,\n",
              "        6.07999992,  8.63000011,  3.        ,  3.75      ,  2.9000001 ,\n",
              "        3.        ,  6.25      ,  3.5       ,  3.        ,  3.24000001,\n",
              "        8.02000046,  3.32999992,  5.25      ,  6.25      ,  3.5       ,\n",
              "        2.95000005,  3.        ,  4.69000006,  3.73000002,  4.        ,\n",
              "        4.        ,  2.9000001 ,  3.04999995,  5.05000019, 13.94999981,\n",
              "       18.15999985,  6.25      ,  5.25      ,  4.78999996,  3.3499999 ,\n",
              "        3.        ,  8.43000031,  5.69999981, 11.97999954,  3.5       ,\n",
              "        4.23999977,  7.        ,  6.        , 12.22000027,  4.5       ,\n",
              "        3.        ,  2.9000001 , 15.        ,  4.        ,  5.25      ,\n",
              "        4.        ,  3.29999995,  5.05000019,  3.57999992,  5.        ,\n",
              "        4.57000017, 12.5       ,  3.45000005,  4.63000011, 10.        ,\n",
              "        2.92000008,  4.51000023,  6.5       ,  7.5       ,  3.53999996,\n",
              "        4.19999981,  3.50999999,  4.5       ,  3.3499999 ,  2.91000009,\n",
              "        5.25      ,  4.05000019,  3.75      ,  3.4000001 ,  3.        ,\n",
              "        6.28999996,  2.53999996,  4.5       ,  3.13000011,  6.36000013,\n",
              "        4.67999983,  6.80000019,  8.52999973,  4.17000008,  3.75      ,\n",
              "       11.10000038,  3.25999999,  9.13000011,  4.5       ,  3.        ,\n",
              "        8.75      ,  4.13999987,  2.86999989,  3.3499999 ,  6.07999992,\n",
              "        3.        ,  4.19999981,  5.5999999 , 10.        , 12.5       ,\n",
              "        3.75999999,  3.0999999 ,  4.28999996, 10.92000008,  7.5       ,\n",
              "        4.05000019,  4.6500001 ,  5.        ,  2.9000001 ,  8.        ,\n",
              "        8.43000031,  2.92000008,  6.25      ,  6.25      ,  5.11000013,\n",
              "        4.        ,  4.44000006,  6.88000011,  5.42999983,  3.        ,\n",
              "        2.9000001 ,  6.25      ,  4.34000015,  3.25      ,  7.26000023,\n",
              "        6.3499999 ,  5.63000011,  8.75      ,  3.20000005,  3.        ,\n",
              "        3.        , 12.5       ,  2.88000011,  3.3499999 ,  6.5       ,\n",
              "       10.38000011,  4.5       , 10.        ,  3.80999994,  8.80000019,\n",
              "        9.42000008,  6.32999992,  4.        ,  2.9000001 , 20.        ,\n",
              "       11.25      ,  3.5       ,  6.        , 14.38000011,  6.36000013,\n",
              "        3.54999995,  3.        ,  4.5       ,  6.63000011,  9.30000019,\n",
              "        3.        ,  3.25      ,  1.5       ,  5.9000001 ,  8.        ,\n",
              "        2.9000001 ,  3.28999996,  6.5       ,  4.        ,  6.        ,\n",
              "        4.07999992,  3.75      ,  3.04999995,  3.5       ,  2.92000008,\n",
              "        4.5       ,  3.3499999 ,  5.94999981,  8.        ,  3.        ,\n",
              "        5.        ,  5.5       ,  2.6500001 ,  3.        ,  4.5       ,\n",
              "       17.5       ,  8.18000031,  9.09000015, 11.81999969,  3.25      ,\n",
              "        4.5       ,  4.5       ,  3.71000004,  6.5       ,  2.9000001 ,\n",
              "        5.5999999 ,  2.23000002,  5.        ,  8.32999992,  2.9000001 ,\n",
              "        6.25      ,  4.55000019,  3.27999997,  2.29999995,  3.29999995,\n",
              "        3.1500001 , 12.5       ,  5.1500001 ,  3.13000011,  7.25      ,\n",
              "        2.9000001 ,  1.75      ,  2.8900001 ,  2.9000001 , 17.70999908,\n",
              "        6.25      ,  2.5999999 ,  6.63000011,  3.5       ,  6.5       ,\n",
              "        3.        ,  4.38000011, 10.        ,  4.94999981,  9.        ,\n",
              "        1.42999995,  3.07999992,  9.32999992,  7.5       ,  4.75      ,\n",
              "        5.6500001 , 15.        ,  2.26999998,  4.67000008, 11.56000042,\n",
              "        3.5       ])"
            ]
          },
          "metadata": {},
          "execution_count": 26
        }
      ]
    },
    {
      "cell_type": "code",
      "source": [
        "x"
      ],
      "metadata": {
        "colab": {
          "base_uri": "https://localhost:8080/"
        },
        "id": "YpnVwHfmCAiZ",
        "outputId": "b7b6cee4-44db-436d-a388-c2dac436517c"
      },
      "execution_count": 27,
      "outputs": [
        {
          "output_type": "execute_result",
          "data": {
            "text/plain": [
              "array([[11,  2],\n",
              "       [12, 22],\n",
              "       [11,  2],\n",
              "       ...,\n",
              "       [15, 13],\n",
              "       [16,  5],\n",
              "       [14,  5]])"
            ]
          },
          "metadata": {},
          "execution_count": 27
        }
      ]
    },
    {
      "cell_type": "code",
      "source": [
        "X = np.c_[np.ones(len(x)),x]\n",
        "X"
      ],
      "metadata": {
        "colab": {
          "base_uri": "https://localhost:8080/"
        },
        "id": "_B9egpyGCBpI",
        "outputId": "c752f308-0ad9-47a1-b232-58dcf4e2b02b"
      },
      "execution_count": 31,
      "outputs": [
        {
          "output_type": "execute_result",
          "data": {
            "text/plain": [
              "array([[ 1., 11.,  2.],\n",
              "       [ 1., 12., 22.],\n",
              "       [ 1., 11.,  2.],\n",
              "       ...,\n",
              "       [ 1., 15., 13.],\n",
              "       [ 1., 16.,  5.],\n",
              "       [ 1., 14.,  5.]])"
            ]
          },
          "metadata": {},
          "execution_count": 31
        }
      ]
    },
    {
      "cell_type": "code",
      "source": [
        "betas= np.linalg.inv(X.T.dot(X)).dot(X.T.dot(y))\n"
      ],
      "metadata": {
        "id": "k9wwM27HD21u"
      },
      "execution_count": 32,
      "outputs": []
    },
    {
      "cell_type": "code",
      "source": [
        "betas"
      ],
      "metadata": {
        "colab": {
          "base_uri": "https://localhost:8080/"
        },
        "id": "NCi9UHP9D6F1",
        "outputId": "83b6584b-15b8-4b81-d83e-7132df1f5ff9"
      },
      "execution_count": 33,
      "outputs": [
        {
          "output_type": "execute_result",
          "data": {
            "text/plain": [
              "array([-3.39053946,  0.64427208,  0.0700954 ])"
            ]
          },
          "metadata": {},
          "execution_count": 33
        }
      ]
    },
    {
      "cell_type": "code",
      "source": [
        "y_estim= X.dot (betas)"
      ],
      "metadata": {
        "id": "eZtQAEbtHHft"
      },
      "execution_count": 42,
      "outputs": []
    },
    {
      "cell_type": "code",
      "source": [
        "error_estim = y - y_estim"
      ],
      "metadata": {
        "id": "0BjQfrkdHwQL"
      },
      "execution_count": 44,
      "outputs": []
    },
    {
      "cell_type": "code",
      "source": [
        "sum(error_estim ** 2)\n",
        "#numerador "
      ],
      "metadata": {
        "colab": {
          "base_uri": "https://localhost:8080/"
        },
        "id": "i1bFNgzAIQbq",
        "outputId": "21a4694f-a524-46c2-c86a-81266f7f88e7"
      },
      "execution_count": 46,
      "outputs": [
        {
          "output_type": "execute_result",
          "data": {
            "text/plain": [
              "5548.159788779683"
            ]
          },
          "metadata": {},
          "execution_count": 46
        }
      ]
    },
    {
      "cell_type": "code",
      "source": [
        "n,k = X.shape"
      ],
      "metadata": {
        "id": "7bNYbVzYJUHF"
      },
      "execution_count": 52,
      "outputs": []
    },
    {
      "cell_type": "code",
      "source": [
        "n"
      ],
      "metadata": {
        "colab": {
          "base_uri": "https://localhost:8080/"
        },
        "id": "ueKBPXd-JmS0",
        "outputId": "25a43f44-5180-48dd-ae82-8fab8c9ead4b"
      },
      "execution_count": 49,
      "outputs": [
        {
          "output_type": "execute_result",
          "data": {
            "text/plain": [
              "526"
            ]
          },
          "metadata": {},
          "execution_count": 49
        }
      ]
    },
    {
      "cell_type": "code",
      "source": [
        "k"
      ],
      "metadata": {
        "colab": {
          "base_uri": "https://localhost:8080/"
        },
        "id": "oiRZpVeDJo6z",
        "outputId": "b654223a-1de4-4029-89d7-4049510f3e97"
      },
      "execution_count": 53,
      "outputs": [
        {
          "output_type": "execute_result",
          "data": {
            "text/plain": [
              "3"
            ]
          },
          "metadata": {},
          "execution_count": 53
        }
      ]
    },
    {
      "cell_type": "code",
      "source": [
        "sigma= 5548.159788779683/(n-k)"
      ],
      "metadata": {
        "id": "OuCZY3poJpzU"
      },
      "execution_count": 55,
      "outputs": []
    },
    {
      "cell_type": "code",
      "source": [
        "ee= np.diag(np.sqrt(sigma *  np.linalg.inv(X.T.dot(X))))"
      ],
      "metadata": {
        "colab": {
          "base_uri": "https://localhost:8080/"
        },
        "id": "FJjnjnV1J1Qz",
        "outputId": "46d887ea-f5cf-4cd5-c697-547f639bacbc"
      },
      "execution_count": 59,
      "outputs": [
        {
          "output_type": "stream",
          "name": "stderr",
          "text": [
            "<ipython-input-59-5f49c04cbd1f>:1: RuntimeWarning: invalid value encountered in sqrt\n",
            "  ee= np.diag(np.sqrt(sigma *  np.linalg.inv(X.T.dot(X))))\n"
          ]
        }
      ]
    },
    {
      "cell_type": "code",
      "source": [
        "betas / ee"
      ],
      "metadata": {
        "colab": {
          "base_uri": "https://localhost:8080/"
        },
        "id": "P--xJhHiK7cy",
        "outputId": "ed985cb4-9ad0-43f0-f56a-5abaf925f750"
      },
      "execution_count": 60,
      "outputs": [
        {
          "output_type": "execute_result",
          "data": {
            "text/plain": [
              "array([-4.423023  , 11.97396614,  6.38529107])"
            ]
          },
          "metadata": {},
          "execution_count": 60
        }
      ]
    },
    {
      "cell_type": "code",
      "source": [
        "betas + (1.96*ee)\n",
        "#limite superior"
      ],
      "metadata": {
        "colab": {
          "base_uri": "https://localhost:8080/"
        },
        "id": "hle1B-pxNTbb",
        "outputId": "ad006d4b-fff1-4ca7-e70b-820555934b85"
      },
      "execution_count": 63,
      "outputs": [
        {
          "output_type": "execute_result",
          "data": {
            "text/plain": [
              "array([-1.88806992,  0.74973198,  0.09161156])"
            ]
          },
          "metadata": {},
          "execution_count": 63
        }
      ]
    },
    {
      "cell_type": "code",
      "source": [
        "betas - (1.96*ee)\n",
        "#limite inferior"
      ],
      "metadata": {
        "colab": {
          "base_uri": "https://localhost:8080/"
        },
        "id": "se1n28rNOMZI",
        "outputId": "ad73b6d8-5475-4a6f-a0dc-07dcbfda414a"
      },
      "execution_count": 64,
      "outputs": [
        {
          "output_type": "execute_result",
          "data": {
            "text/plain": [
              "array([-4.89300901,  0.53881218,  0.04857923])"
            ]
          },
          "metadata": {},
          "execution_count": 64
        }
      ]
    },
    {
      "cell_type": "markdown",
      "source": [
        "los tres coeficientes son estadisticamente significativos "
      ],
      "metadata": {
        "id": "SKIJ8-I3OfhI"
      }
    },
    {
      "cell_type": "code",
      "source": [],
      "metadata": {
        "id": "DW84dYtRPFUQ"
      },
      "execution_count": null,
      "outputs": []
    }
  ]
}