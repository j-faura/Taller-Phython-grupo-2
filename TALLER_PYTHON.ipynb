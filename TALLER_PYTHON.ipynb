{
  "nbformat": 4,
  "nbformat_minor": 0,
  "metadata": {
    "colab": {
      "provenance": []
    },
    "kernelspec": {
      "name": "python3",
      "display_name": "Python 3"
    },
    "language_info": {
      "name": "python"
    }
  },
  "cells": [
    {
      "cell_type": "markdown",
      "source": [
        "**TALLER DE PYTHON**\n",
        "\n",
        "\n",
        "\n",
        "*   Sara Castillo\n",
        "*   Maria Fernanda Sabogal\n",
        "*   Juliana Faura\n",
        "\n"
      ],
      "metadata": {
        "id": "gLkoT6fN8QOm"
      }
    },
    {
      "cell_type": "code",
      "source": [
        "# a) Crea un programa que tome una lista de números como entrada y devuelva la suma de todos los números en la lista.\n",
        "lista1 = [1,2,3,5,6,4,8,7,9]"
      ],
      "metadata": {
        "id": "SgfkjwBI8QbW"
      },
      "execution_count": null,
      "outputs": []
    },
    {
      "cell_type": "code",
      "source": [
        "suma_de_lista1 = sum(lista1)\n",
        "print(suma_de_lista1)"
      ],
      "metadata": {
        "id": "sWxwBvvO8gK3",
        "colab": {
          "base_uri": "https://localhost:8080/"
        },
        "outputId": "07bd9291-ae32-45ce-a2dd-ca7a024ca886"
      },
      "execution_count": null,
      "outputs": [
        {
          "output_type": "stream",
          "name": "stdout",
          "text": [
            "45\n"
          ]
        }
      ]
    },
    {
      "cell_type": "code",
      "source": [
        "# b) Escribe un programa que tome dos listas y devuelva una nueva lista que contenga todos los elementos que son comunes a ambas listas.\n",
        "lista2 = [9,5,6,4,2,3,1,2]"
      ],
      "metadata": {
        "id": "y01XGLVw-TFd"
      },
      "execution_count": null,
      "outputs": []
    },
    {
      "cell_type": "code",
      "source": [
        "def elementos_comunes(lista1, lista2):\n",
        "  return list(set(lista1) & set(lista2))"
      ],
      "metadata": {
        "id": "FfU8P5yTEkgK"
      },
      "execution_count": null,
      "outputs": []
    },
    {
      "cell_type": "code",
      "source": [
        "comunes = elementos_comunes(lista1, lista2)\n",
        "print(comunes)"
      ],
      "metadata": {
        "colab": {
          "base_uri": "https://localhost:8080/"
        },
        "id": "5l9CFEkzFKVE",
        "outputId": "a64acf03-be3b-461c-82f0-71bac01b8c45"
      },
      "execution_count": null,
      "outputs": [
        {
          "output_type": "stream",
          "name": "stdout",
          "text": [
            "[1, 2, 3, 4, 5, 6, 9]\n"
          ]
        }
      ]
    },
    {
      "cell_type": "code",
      "source": [
        "# c) Crea un programa que tome una lista de cadenas como entrada y devuelva la longitud de la cadena más larga en la lista.\n",
        "def longitud_cadena_max(lista):\n",
        "    long_max = 0\n",
        "    for cadena in lista:\n",
        "        longt = len(cadena)\n",
        "        if longt > long_max:\n",
        "            long_max = longt\n",
        "    return long_max\n",
        "cadenas = ['Azul', 'rojo', 'Naranja', 'Negro',]\n",
        "resultado = longitud_cadena_max(cadenas)\n",
        "print(resultado) "
      ],
      "metadata": {
        "id": "haLSw9K9Fq8D",
        "colab": {
          "base_uri": "https://localhost:8080/"
        },
        "outputId": "bbe1e416-daf5-4312-ad10-3a741119ef71"
      },
      "execution_count": null,
      "outputs": [
        {
          "output_type": "stream",
          "name": "stdout",
          "text": [
            "7\n"
          ]
        }
      ]
    },
    {
      "cell_type": "code",
      "source": [
        "# d) Escribe un programa que tome una lista de números como entrada y devuelva una nueva lista que contenga solo los números pares de la lista original.\n",
        "lista3 = (6,5,9,8,3,4,1)\n",
        "def obtener_numeros_pares(lista3):\n",
        "  pares = []\n",
        "  for numero in lista3:\n",
        "    if numero % 2==0:\n",
        "      pares.append(numero)\n",
        "  return pares"
      ],
      "metadata": {
        "id": "i0A1XVdpH_LO"
      },
      "execution_count": null,
      "outputs": []
    },
    {
      "cell_type": "code",
      "source": [
        "pares = obtener_numeros_pares(lista3)\n",
        "print(pares)"
      ],
      "metadata": {
        "colab": {
          "base_uri": "https://localhost:8080/"
        },
        "id": "DlvKHnURJPVJ",
        "outputId": "dd2b8f09-74a3-48d6-cdf5-a1e581c2e3d0"
      },
      "execution_count": null,
      "outputs": [
        {
          "output_type": "stream",
          "name": "stdout",
          "text": [
            "[6, 8, 4]\n"
          ]
        }
      ]
    },
    {
      "cell_type": "code",
      "source": [
        "# e) Crea un programa que tome una lista de cadenas como entrada y devuelva una nueva lista que contenga solo las cadenas que comienzan con la letra \"a\".\n",
        "def cadenas_con_a(lista):\n",
        "    condicional_a = []\n",
        "    for cadena in lista:\n",
        "        if cadena.startswith('a') or cadena.startswith('A'):\n",
        "            condicional_a.append(cadena)\n",
        "    return condicional_a\n",
        "\n",
        "\n",
        "cadenas = ['Manzana', 'Barco', 'Aprender', 'astronauta', 'Computador','anillo']\n",
        "condicional_a = cadenas_con_a(cadenas)\n",
        "print(condicional_a)"
      ],
      "metadata": {
        "colab": {
          "base_uri": "https://localhost:8080/"
        },
        "id": "g7aCdNw0xg4X",
        "outputId": "7b6cd36c-5447-4611-a177-75528af31fae"
      },
      "execution_count": null,
      "outputs": [
        {
          "output_type": "stream",
          "name": "stdout",
          "text": [
            "['Aprender', 'astronauta', 'anillo']\n"
          ]
        }
      ]
    },
    {
      "cell_type": "code",
      "source": [
        "# f) Escribe un programa que tome un diccionario como entrada y devuelva el valor asociado con una clave dada.\n",
        "diccionario = {\"nombre\":[\"Diego\",\"Maria\",\"Alex\",\"Karen\"],\n",
        "               \"edad\":[\"19\",\"21\",\"25\",\"28\"]}"
      ],
      "metadata": {
        "id": "A4u_O7xBLB5B"
      },
      "execution_count": null,
      "outputs": []
    },
    {
      "cell_type": "code",
      "source": [
        "diccionario[\"profesión\"] = [\"arquitecto\",\"comerciante\",\"optometra\",\"vendedora\"]\n",
        "diccionario"
      ],
      "metadata": {
        "colab": {
          "base_uri": "https://localhost:8080/"
        },
        "id": "l9JILYN2MLKX",
        "outputId": "029b647c-5120-4a4b-9d0a-c22dd9eeeef6"
      },
      "execution_count": null,
      "outputs": [
        {
          "output_type": "execute_result",
          "data": {
            "text/plain": [
              "{'nombre': ['Diego', 'Maria', 'Alex', 'Karen'],\n",
              " 'edad': ['19', '21', '25', '28'],\n",
              " 'profesión': ['arquitecto', 'comerciante', 'optometra', 'vendedora']}"
            ]
          },
          "metadata": {},
          "execution_count": 19
        }
      ]
    },
    {
      "cell_type": "code",
      "source": [
        "diccionario[\"edad\"]"
      ],
      "metadata": {
        "colab": {
          "base_uri": "https://localhost:8080/"
        },
        "id": "Bs6uZIjDS0I6",
        "outputId": "98110b78-1815-4c43-ec2b-b27560fbb890"
      },
      "execution_count": null,
      "outputs": [
        {
          "output_type": "execute_result",
          "data": {
            "text/plain": [
              "['19', '21', '25', '28']"
            ]
          },
          "metadata": {},
          "execution_count": 20
        }
      ]
    },
    {
      "cell_type": "code",
      "source": [
        "# g) Crea un programa que tome una lista de diccionarios como entrada y devuelva una nueva lista que contenga solo los diccionarios que tienen una cierta clave.\n",
        "lista5 = [{\"nombre\": \"Alex\", \"edad\": 25}, {\"nombre\": \"Karen\", \"profesión\": \"vendedora\"}, {\"nombre\": \"Maria\", \"edad\": 21}]\n",
        "def buscar_diccionarios(lista5, clave):\n",
        "    resultado = []\n",
        "    for diccionario in lista5:\n",
        "        if clave in diccionario:\n",
        "            resultado.append(diccionario)\n",
        "    return resultado"
      ],
      "metadata": {
        "id": "vvXWQYXXS9o4"
      },
      "execution_count": null,
      "outputs": []
    },
    {
      "cell_type": "code",
      "source": [
        "mi_diccionario = buscar_diccionarios(lista5,\"edad\")\n",
        "print(mi_diccionario)"
      ],
      "metadata": {
        "colab": {
          "base_uri": "https://localhost:8080/"
        },
        "id": "a0yPzrL8WTiu",
        "outputId": "415ed717-20bb-40fb-b38b-73821dacefdd"
      },
      "execution_count": null,
      "outputs": [
        {
          "output_type": "stream",
          "name": "stdout",
          "text": [
            "[{'nombre': 'Alex', 'edad': 25}, {'nombre': 'Maria', 'edad': 21}]\n"
          ]
        }
      ]
    },
    {
      "cell_type": "code",
      "source": [
        "# h) Escribe un programa que tome un diccionario como entrada y devuelva un nuevo diccionario con las claves y los valores intercambiados.\n",
        "diccionario2 = {\"nombre\": \"Alex\", \"edad\": 25, \"profesión\": \"doctor\"}\n",
        "diccionario_invertido = intercambiar(diccionario2)\n",
        "print(diccionario_invertido)"
      ],
      "metadata": {
        "colab": {
          "base_uri": "https://localhost:8080/"
        },
        "id": "20Ra7Pf3Wkeb",
        "outputId": "d1e4a974-c57d-4551-b566-fc8869edd82e"
      },
      "execution_count": null,
      "outputs": [
        {
          "output_type": "stream",
          "name": "stdout",
          "text": [
            "{'Alex': 'nombre', 25: 'edad', 'doctor': 'profesión'}\n"
          ]
        }
      ]
    },
    {
      "cell_type": "code",
      "source": [
        "# i) Crea un programa que tome dos diccionarios como entrada y devuelva un nuevo diccionario que contenga solo los pares clave-valor que son comunes a ambos diccionarios.\n",
        "mi_diccionario1 = {\"nombre\": \"Alex\", \"edad\": 25, \"profesión\": \"doctor\"}\n",
        "mi_diccionario2 = {\"nombre\": \"Maria\", \"edad\": 21, \"profesión\": \"doctor\"}\n",
        "def pares_comunes(mi_diccionario1, mi_diccionario2):\n",
        "    comunes = {}\n",
        "    for clave, valor in mi_diccionario1.items():\n",
        "        if clave in mi_diccionario2 and mi_diccionario2[clave] == valor:\n",
        "            comunes[clave] = valor\n",
        "    return comunes"
      ],
      "metadata": {
        "id": "CMpQ7zJPYQrP"
      },
      "execution_count": null,
      "outputs": []
    },
    {
      "cell_type": "code",
      "source": [
        "comunes = pares_comunes(mi_diccionario1, mi_diccionario2)\n",
        "print(comunes)"
      ],
      "metadata": {
        "colab": {
          "base_uri": "https://localhost:8080/"
        },
        "id": "vfRtX_iMaw22",
        "outputId": "6d18988a-2ef3-4a72-bfc7-cdb05ae6e4bf"
      },
      "execution_count": null,
      "outputs": [
        {
          "output_type": "stream",
          "name": "stdout",
          "text": [
            "{'profesión': 'doctor'}\n"
          ]
        }
      ]
    },
    {
      "cell_type": "code",
      "source": [
        "# j) Escribe un programa que tome un diccionario como entrada y devuelva un nuevo diccionario con las claves ordenadas alfabéticamente.\n",
        "diccionario3 = {\"nombre\": \"Alex\", \"edad\": 25, \"profesión\": \"doctor\"}\n",
        "def ordenar_claves(diccionario3):\n",
        "    claves_ordenadas = sorted(diccionario3.keys())\n",
        "    diccionario_ordenado = {}\n",
        "    for clave in claves_ordenadas:\n",
        "        diccionario_ordenado[clave] = diccionario3[clave]\n",
        "    return diccionario_ordenado\n",
        "\n",
        "diccionario_ordenado = ordenar_claves(mi_diccionario)\n",
        "print(diccionario_ordenado)"
      ],
      "metadata": {
        "id": "fH4fk8gsbfrw",
        "colab": {
          "base_uri": "https://localhost:8080/"
        },
        "outputId": "e67e165c-4f2d-482e-97d2-a95298aba2ed"
      },
      "execution_count": null,
      "outputs": [
        {
          "output_type": "stream",
          "name": "stdout",
          "text": [
            "{'edad': 25, 'nombre': 'Juan', 'profesion': 'Programador'}\n"
          ]
        }
      ]
    },
    {
      "cell_type": "code",
      "source": [
        "# k) Escribe una función que tome dos números como entrada y devuelva su suma.\n",
        "def sumar_numeros(num1, num2):\n",
        "    suma = num1 + num2\n",
        "    return suma\n",
        "\n",
        "resultado = sumar_numeros(5, 7)\n",
        "print(resultado)"
      ],
      "metadata": {
        "id": "ZBQlQQkqcs4S",
        "colab": {
          "base_uri": "https://localhost:8080/"
        },
        "outputId": "b8367513-16b6-4536-96ab-da248a6c6fcb"
      },
      "execution_count": null,
      "outputs": [
        {
          "output_type": "stream",
          "name": "stdout",
          "text": [
            "12\n"
          ]
        }
      ]
    },
    {
      "cell_type": "code",
      "source": [
        "# l) Crea una función que tome una lista de cadenas como entrada y devuelva una nueva lista que contenga solo las cadenas que son más largas que una longitud dada.\n",
        "def filtrar_cadenas(lista_cadenas, longitud_minima):\n",
        "    nuevas_cadenas = []\n",
        "    for cadena in lista_cadenas:\n",
        "        if len(cadena) > longitud_minima:\n",
        "            nuevas_cadenas.append(cadena)\n",
        "    return nuevas_cadenas\n",
        "cadenas = ['flor', 'azul', 'primavera', 'rosa']\n",
        "longitud_minima = 5\n",
        "resultado = filtrar_cadenas(cadenas, longitud_minima)\n",
        "print(resultado) "
      ],
      "metadata": {
        "id": "eyBzPfCVemmz",
        "colab": {
          "base_uri": "https://localhost:8080/"
        },
        "outputId": "1d01ca11-a417-45ee-fa07-303d194a321d"
      },
      "execution_count": null,
      "outputs": [
        {
          "output_type": "stream",
          "name": "stdout",
          "text": [
            "['primavera']\n"
          ]
        }
      ]
    },
    {
      "cell_type": "code",
      "source": [
        "# M) Escribe una función que tome una cadena como entrada y devuelva True si la cadena es un palíndromo, False en caso contrario.\n",
        "def palindromo(cadena):\n",
        "    cadena = cadena.lower().replace(\" \", \"\")\n",
        "    return cadena == cadena[::-1]\n",
        "cadena1 = \"Amo la pacifica paloma\"\n",
        "cadena2 = \"Buenas noches\"\n",
        "print(palindromo(cadena1)) \n",
        "print(palindromo(cadena2))"
      ],
      "metadata": {
        "id": "w38uvCiOgP5H",
        "colab": {
          "base_uri": "https://localhost:8080/"
        },
        "outputId": "f2e6c4ec-b399-431e-84e0-1ece594d8b12"
      },
      "execution_count": null,
      "outputs": [
        {
          "output_type": "stream",
          "name": "stdout",
          "text": [
            "True\n",
            "False\n"
          ]
        }
      ]
    },
    {
      "cell_type": "code",
      "source": [
        "# n) Crea una función que tome una lista de números como entrada y devuelva el promedio de todos los números en la lista.\n",
        "lista6 = [2,7,4,9,1]\n",
        "def promedio(lista6):\n",
        "  total = sum(lista6)\n",
        "  cantidad = len(lista6)\n",
        "  if cantidad ==0:\n",
        "    return 0\n",
        "  else:\n",
        "    return total / cantidad\n",
        "\n",
        "print(promedio(lista6))"
      ],
      "metadata": {
        "colab": {
          "base_uri": "https://localhost:8080/"
        },
        "id": "bIln0yVQi_iC",
        "outputId": "b284fd5c-fc44-41e2-cc38-b6cb6e3b7484"
      },
      "execution_count": null,
      "outputs": [
        {
          "output_type": "stream",
          "name": "stdout",
          "text": [
            "4.6\n"
          ]
        }
      ]
    },
    {
      "cell_type": "code",
      "source": [
        "# o)Escribe una función que tome un diccionario como entrada y devuelva una lista de todas las claves en el diccionario.\n",
        "def obtener_claves(diccionario):\n",
        "    return list(diccionario.keys())\n",
        "mi_diccionario = {'estatura': '1,54', 'ingresos': 30.000, 'ciudad': 'Bogotá'}\n",
        "print(obtener_claves(mi_diccionario)) "
      ],
      "metadata": {
        "id": "ShbYdxHSjAw4",
        "colab": {
          "base_uri": "https://localhost:8080/"
        },
        "outputId": "68e029bf-72c2-471b-a68e-fd24a60fab82"
      },
      "execution_count": null,
      "outputs": [
        {
          "output_type": "stream",
          "name": "stdout",
          "text": [
            "['estatura', 'ingresos', 'ciudad']\n"
          ]
        }
      ]
    },
    {
      "cell_type": "code",
      "source": [
        "# p) Escribe un programa que tome una lista de números como entrada y devuelva el valor máximo en la lista.\n",
        "def obtener_valor_maximo(lista):\n",
        "    return max(lista)\n",
        "\n",
        "mi_lista = [12, 3, 9, 8, 4,18,22,21]\n",
        "print(obtener_valor_maximo(mi_lista)) "
      ],
      "metadata": {
        "colab": {
          "base_uri": "https://localhost:8080/"
        },
        "id": "7QaDhbG8jtVz",
        "outputId": "f36e1f42-cb81-4628-e7eb-a94c3462790d"
      },
      "execution_count": null,
      "outputs": [
        {
          "output_type": "stream",
          "name": "stdout",
          "text": [
            "22\n"
          ]
        }
      ]
    },
    {
      "cell_type": "code",
      "source": [
        "# q) Crea un programa que tome una cadena como entrada y devuelva una nueva cadena que contenga solo las vocales en la cadena original.\n",
        "def obtener_vocales(cadena):\n",
        "    vocales = \"aeiouAEIOU\"\n",
        "    vocales_encontradas = []\n",
        "    for caracter in cadena:\n",
        "        if caracter in vocales:\n",
        "            vocales_encontradas += caracter\n",
        "    return vocales_encontradas\n",
        "mi_cadena = \"python es super facil de implementar\"\n",
        "print(obtener_vocales(mi_cadena))\n"
      ],
      "metadata": {
        "id": "gPI1M5pOvlIX",
        "colab": {
          "base_uri": "https://localhost:8080/"
        },
        "outputId": "4d6d0fd7-15ea-43ef-8ecd-c68c867ee65e"
      },
      "execution_count": null,
      "outputs": [
        {
          "output_type": "stream",
          "name": "stdout",
          "text": [
            "['o', 'e', 'u', 'e', 'a', 'i', 'e', 'i', 'e', 'e', 'a']\n"
          ]
        }
      ]
    },
    {
      "cell_type": "code",
      "source": [
        "# r) Escribe un programa que tome una lista de números como entrada y devuelva una nueva lista que contenga los valores al cuadrado de cada número en la lista original.\n",
        "def obtener_cuadrados(lista_numeros):\n",
        "    lista_cuadrados = []\n",
        "    for numero in lista_numeros:\n",
        "        lista_cuadrados.append(numero ** 2)\n",
        "    return lista_cuadrados\n",
        "\n",
        "\n",
        "mi_lista = [1, 2, 3, 4, 5]\n",
        "print(obtener_cuadrados(mi_lista)) "
      ],
      "metadata": {
        "id": "SSmN19Him_Gl",
        "colab": {
          "base_uri": "https://localhost:8080/"
        },
        "outputId": "5ac9593f-7d87-4841-c77b-38c6b671b4bc"
      },
      "execution_count": null,
      "outputs": [
        {
          "output_type": "stream",
          "name": "stdout",
          "text": [
            "[1, 4, 9, 16, 25]\n"
          ]
        }
      ]
    },
    {
      "cell_type": "code",
      "source": [
        "# s) Crea un programa que tome una cadena como entrada y devuelva una nueva cadena con los caracteres en orden inverso.\n",
        "def invertir_cadena(cadena):\n",
        "    return cadena[::-1]\n",
        "cadena1 = \"3,6,9,2,7,4,15,17,11,100\"\n",
        "print(invertir_cadena(cadena1))"
      ],
      "metadata": {
        "colab": {
          "base_uri": "https://localhost:8080/"
        },
        "id": "IjcbCPkGoec1",
        "outputId": "b4a61f84-a783-4fac-9a42-71b1fe97713a"
      },
      "execution_count": null,
      "outputs": [
        {
          "output_type": "stream",
          "name": "stdout",
          "text": [
            "001,11,71,51,4,7,2,9,6,3\n"
          ]
        }
      ]
    },
    {
      "cell_type": "code",
      "source": [
        "# t) Escribe un programa que tome una lista de cadenas como entrada y devuelva una nueva lista que contenga la longitud de cada cadena en la lista original.\n",
        "def longitud_cadenas(lista_cadenas):\n",
        "    longitudes = []\n",
        "    for cadena in lista_cadenas:\n",
        "        longitudes.append(len(cadena))\n",
        "    return longitudes\n",
        "listcadenas = ['Mafe', 'Come', 'Pastas', 'Crudas']\n",
        "longitudes = longitud_cadenas(listcadenas)\n",
        "print(longitudes)\n"
      ],
      "metadata": {
        "id": "kLTzDu6YpVGF",
        "colab": {
          "base_uri": "https://localhost:8080/"
        },
        "outputId": "97ce667e-ef6a-4587-8fe9-a163f39377bc"
      },
      "execution_count": null,
      "outputs": [
        {
          "output_type": "stream",
          "name": "stdout",
          "text": [
            "[4, 4, 6, 6]\n"
          ]
        }
      ]
    }
  ]
}